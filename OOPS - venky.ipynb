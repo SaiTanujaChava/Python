{
 "cells": [
  {
   "cell_type": "markdown",
   "metadata": {},
   "source": [
    "## 1.Syntax error"
   ]
  },
  {
   "cell_type": "code",
   "execution_count": 1,
   "metadata": {},
   "outputs": [
    {
     "ename": "SyntaxError",
     "evalue": "invalid syntax (<ipython-input-1-b19d96198bef>, line 2)",
     "output_type": "error",
     "traceback": [
      "\u001b[1;36m  File \u001b[1;32m\"<ipython-input-1-b19d96198bef>\"\u001b[1;36m, line \u001b[1;32m2\u001b[0m\n\u001b[1;33m    if x==10\u001b[0m\n\u001b[1;37m            ^\u001b[0m\n\u001b[1;31mSyntaxError\u001b[0m\u001b[1;31m:\u001b[0m invalid syntax\n"
     ]
    }
   ],
   "source": [
    "x=10\n",
    "if x==10\n",
    "print(\"hello\")"
   ]
  },
  {
   "cell_type": "code",
   "execution_count": 2,
   "metadata": {},
   "outputs": [
    {
     "ename": "SyntaxError",
     "evalue": "Missing parentheses in call to 'print'. Did you mean print(\"hello\")? (<ipython-input-2-2a0eaa89f43f>, line 1)",
     "output_type": "error",
     "traceback": [
      "\u001b[1;36m  File \u001b[1;32m\"<ipython-input-2-2a0eaa89f43f>\"\u001b[1;36m, line \u001b[1;32m1\u001b[0m\n\u001b[1;33m    print \"hello\"\u001b[0m\n\u001b[1;37m          ^\u001b[0m\n\u001b[1;31mSyntaxError\u001b[0m\u001b[1;31m:\u001b[0m Missing parentheses in call to 'print'. Did you mean print(\"hello\")?\n"
     ]
    }
   ],
   "source": [
    "print \"hello\""
   ]
  },
  {
   "cell_type": "markdown",
   "metadata": {},
   "source": [
    "## 2. Runtime errors "
   ]
  },
  {
   "cell_type": "code",
   "execution_count": 3,
   "metadata": {},
   "outputs": [
    {
     "ename": "ZeroDivisionError",
     "evalue": "division by zero",
     "output_type": "error",
     "traceback": [
      "\u001b[1;31m---------------------------------------------------------------------------\u001b[0m",
      "\u001b[1;31mZeroDivisionError\u001b[0m                         Traceback (most recent call last)",
      "\u001b[1;32m<ipython-input-3-fe01563e1bc6>\u001b[0m in \u001b[0;36m<module>\u001b[1;34m\u001b[0m\n\u001b[1;32m----> 1\u001b[1;33m \u001b[0mprint\u001b[0m\u001b[1;33m(\u001b[0m\u001b[1;36m10\u001b[0m\u001b[1;33m/\u001b[0m\u001b[1;36m0\u001b[0m\u001b[1;33m)\u001b[0m\u001b[1;33m\u001b[0m\u001b[1;33m\u001b[0m\u001b[0m\n\u001b[0m",
      "\u001b[1;31mZeroDivisionError\u001b[0m: division by zero"
     ]
    }
   ],
   "source": [
    "print(10/0)"
   ]
  },
  {
   "cell_type": "markdown",
   "metadata": {},
   "source": [
    "# Constructor"
   ]
  },
  {
   "cell_type": "markdown",
   "metadata": {},
   "source": [
    "1.Constructor is a special method in python.\n",
    "\n",
    "2.The name of the constructor should be __init__(self).\n",
    "\n",
    "3.Constructor will be executed automatically at the time of object creation.\n",
    "\n",
    "4.The main purpose of constructor is to declare and initialize instance variables.\n",
    "\n",
    "5.Per object constructor will be executed once.\n",
    "\n",
    "6.Constructor can take atleast one argument(atleast one).\n",
    "\n",
    "7.Constructor is optional and if we are not providing any constructor then python will provide default constructor."
   ]
  },
  {
   "cell_type": "code",
   "execution_count": 6,
   "metadata": {},
   "outputs": [
    {
     "name": "stdout",
     "output_type": "stream",
     "text": [
      "constructor execution.....\n",
      "constructor execution.....\n",
      "constructor execution.....\n",
      "method execution.....\n",
      "1779407246288\n",
      "1779407246384\n",
      "1779407246960\n"
     ]
    }
   ],
   "source": [
    "class test:\n",
    "    def __init__(self):\n",
    "        print(\"constructor execution.....\")\n",
    "    def m1(self):\n",
    "        print(\"method execution.....\")\n",
    "t1=test() #t1,t2,t3 are reference variables\n",
    "t2=test()\n",
    "t3=test()\n",
    "t1.m1()\n",
    "print(id(t1))\n",
    "print(id(t2))\n",
    "print(id(t3))"
   ]
  },
  {
   "cell_type": "code",
   "execution_count": 8,
   "metadata": {},
   "outputs": [],
   "source": [
    "#example\n",
    "def __init__(Self,name,rollno,marks):\n",
    "    self.name=name\n",
    "    self.rollno=rollno\n",
    "    self.marks=marks"
   ]
  },
  {
   "cell_type": "code",
   "execution_count": 11,
   "metadata": {},
   "outputs": [
    {
     "name": "stdout",
     "output_type": "stream",
     "text": [
      "Name is: tanuja Age is: 20 Marks are: 100\n"
     ]
    }
   ],
   "source": [
    "class student:\n",
    "    def __init__(self):\n",
    "        self.name=\"tanuja\"\n",
    "        self.age=20\n",
    "        self.marks=100\n",
    "    def talk(self):\n",
    "        print(\"Name is:\",self.name,\"Age is:\",self.age,\"Marks are:\",self.marks)\n",
    "s1=student()\n",
    "s1.talk()"
   ]
  },
  {
   "cell_type": "code",
   "execution_count": 14,
   "metadata": {},
   "outputs": [
    {
     "name": "stdout",
     "output_type": "stream",
     "text": [
      "constructor execution.....\n",
      "method execution...\n",
      "method execution...\n"
     ]
    }
   ],
   "source": [
    "#pgm to demonstrate constructor will execute only once per object.\n",
    "class test:\n",
    "    def __init__(self):\n",
    "        print(\"constructor execution.....\")\n",
    "    def m1(self):\n",
    "        print(\"method execution...\")\n",
    "t1=test()\n",
    "t1.m1()\n",
    "t1.m1()"
   ]
  },
  {
   "cell_type": "markdown",
   "metadata": {},
   "source": [
    "### Single except block with multiple errors:"
   ]
  },
  {
   "cell_type": "code",
   "execution_count": 18,
   "metadata": {},
   "outputs": [
    {
     "name": "stdout",
     "output_type": "stream",
     "text": [
      "Enter a value:13\n",
      "Enter b value:0\n",
      "we got exception is: division by zero\n"
     ]
    }
   ],
   "source": [
    "try:\n",
    "    a=int(input(\"Enter a value:\"))\n",
    "    b=int(input(\"Enter b value:\"))\n",
    "    print(a/b)\n",
    "except(ZeroDivisionError,ValueError,NameError) as msg:\n",
    "    print(\"we got exception is:\",msg)"
   ]
  },
  {
   "cell_type": "markdown",
   "metadata": {},
   "source": [
    "### Default Exception: "
   ]
  },
  {
   "cell_type": "code",
   "execution_count": null,
   "metadata": {},
   "outputs": [],
   "source": [
    "Syntax:\n",
    "    except:\n",
    "        print(\"Error message....\")"
   ]
  },
  {
   "cell_type": "code",
   "execution_count": 19,
   "metadata": {},
   "outputs": [
    {
     "name": "stdout",
     "output_type": "stream",
     "text": [
      "Enter a value:ten\n",
      "Entered values are wrong...please enter only integers\n"
     ]
    }
   ],
   "source": [
    "try:\n",
    "    a=int(input(\"Enter a value:\"))\n",
    "    b=int(input(\"Enter b value:\"))\n",
    "    print(a/b)\n",
    "except ZeroDivisionError:\n",
    "    print(\"we should not divide with zero...\")\n",
    "except:\n",
    "    print(\"Entered values are wrong...please enter only integers\")\n",
    "    \n",
    "    "
   ]
  },
  {
   "cell_type": "code",
   "execution_count": 20,
   "metadata": {},
   "outputs": [
    {
     "name": "stdout",
     "output_type": "stream",
     "text": [
      "Before modification of values:\n",
      "Static variable x value is: 10\n",
      "Instance variable y value is: 20\n",
      "Before modification of values:\n",
      "Static variable x value is: 999\n",
      "Instance variable y value is: 888\n",
      "Before modification of values of t2:\n",
      "Static variable x value is: 999\n",
      "Instance variable y value is: 20\n"
     ]
    }
   ],
   "source": [
    "#eg pgm to create static variable\n",
    "class test:\n",
    "    x=10 #static variable\n",
    "    def __init__(self):\n",
    "        self.y=20 #instance variable\n",
    "t1=test()\n",
    "t2=test()\n",
    "print(\"Before modification of values:\")\n",
    "print(\"Static variable x value is:\",t1.x)\n",
    "print(\"Instance variable y value is:\",t1.y)\n",
    "test.x=999\n",
    "t1.y=888\n",
    "print(\"Before modification of values:\")\n",
    "print(\"Static variable x value is:\",t1.x)\n",
    "print(\"Instance variable y value is:\",t1.y)\n",
    "print(\"Before modification of values of t2:\")\n",
    "print(\"Static variable x value is:\",t2.x)\n",
    "print(\"Instance variable y value is:\",t2.y)"
   ]
  },
  {
   "cell_type": "markdown",
   "metadata": {},
   "source": [
    "## Types of variables "
   ]
  },
  {
   "cell_type": "markdown",
   "metadata": {},
   "source": [
    "1. Instance variables[object level variables]\n",
    "\n",
    "2. Static variables[class level variables]\n",
    "\n",
    "3. Local variables[method level variables]"
   ]
  },
  {
   "cell_type": "markdown",
   "metadata": {},
   "source": [
    "### 1. Instance variables: "
   ]
  },
  {
   "cell_type": "markdown",
   "metadata": {},
   "source": [
    "If the value of variable varied from object to object.\n",
    "\n",
    "Note: for every object a separate copy of instance variable will be created"
   ]
  },
  {
   "cell_type": "markdown",
   "metadata": {},
   "source": [
    "##### where we can declare instance variables: "
   ]
  },
  {
   "cell_type": "markdown",
   "metadata": {},
   "source": [
    "1. Inside constructor with help of self variable.\n",
    "\n",
    "2. Inside instance method with self variable when we call the method then it executes.\n",
    "\n",
    "3. Outside of the class with object reference variable."
   ]
  },
  {
   "cell_type": "code",
   "execution_count": null,
   "metadata": {},
   "outputs": [],
   "source": [
    "class student:\n",
    "    def __init__(self):\n",
    "        self.name=\"tanuja\"\n",
    "        self.marks=100"
   ]
  },
  {
   "cell_type": "markdown",
   "metadata": {},
   "source": [
    "### 2.Static variable "
   ]
  },
  {
   "cell_type": "code",
   "execution_count": 21,
   "metadata": {},
   "outputs": [
    {
     "name": "stdout",
     "output_type": "stream",
     "text": [
      "Static variable x value is: 10\n",
      "Instance variable y value is: 20\n"
     ]
    }
   ],
   "source": [
    "#eg pgm to create static variable\n",
    "class test:\n",
    "    x=10\n",
    "    def __init__(self):\n",
    "        self.y=20\n",
    "t1=test()\n",
    "print(\"Static variable x value is:\",t1.x)\n",
    "print(\"Instance variable y value is:\",t1.y)"
   ]
  },
  {
   "cell_type": "code",
   "execution_count": 15,
   "metadata": {},
   "outputs": [
    {
     "name": "stdout",
     "output_type": "stream",
     "text": [
      "{'__module__': '__main__', 'a': 10, '__init__': <function test.__init__ at 0x000001D8B3AE6D30>, 'm1': <function test.m1 at 0x000001D8B3AE6A60>, 'm2': <classmethod object at 0x000001D8B3AFFA00>, 'm3': <staticmethod object at 0x000001D8B3AFFA30>, '__dict__': <attribute '__dict__' of 'test' objects>, '__weakref__': <attribute '__weakref__' of 'test' objects>, '__doc__': None}\n",
      "{'__module__': '__main__', 'a': 10, '__init__': <function test.__init__ at 0x000001D8B3AE6D30>, 'm1': <function test.m1 at 0x000001D8B3AE6A60>, 'm2': <classmethod object at 0x000001D8B3AFFA00>, 'm3': <staticmethod object at 0x000001D8B3AFFA30>, '__dict__': <attribute '__dict__' of 'test' objects>, '__weakref__': <attribute '__weakref__' of 'test' objects>, '__doc__': None, 'b': 20}\n",
      "{'__module__': '__main__', 'a': 10, '__init__': <function test.__init__ at 0x000001D8B3AE6D30>, 'm1': <function test.m1 at 0x000001D8B3AE6A60>, 'm2': <classmethod object at 0x000001D8B3AFFA00>, 'm3': <staticmethod object at 0x000001D8B3AFFA30>, '__dict__': <attribute '__dict__' of 'test' objects>, '__weakref__': <attribute '__weakref__' of 'test' objects>, '__doc__': None, 'b': 20, 'c': 30}\n",
      "{'__module__': '__main__', 'a': 10, '__init__': <function test.__init__ at 0x000001D8B3AE6D30>, 'm1': <function test.m1 at 0x000001D8B3AE6A60>, 'm2': <classmethod object at 0x000001D8B3AFFA00>, 'm3': <staticmethod object at 0x000001D8B3AFFA30>, '__dict__': <attribute '__dict__' of 'test' objects>, '__weakref__': <attribute '__weakref__' of 'test' objects>, '__doc__': None, 'b': 20, 'c': 30, 'd': 40, 'e': 50}\n",
      "{'__module__': '__main__', 'a': 10, '__init__': <function test.__init__ at 0x000001D8B3AE6D30>, 'm1': <function test.m1 at 0x000001D8B3AE6A60>, 'm2': <classmethod object at 0x000001D8B3AFFA00>, 'm3': <staticmethod object at 0x000001D8B3AFFA30>, '__dict__': <attribute '__dict__' of 'test' objects>, '__weakref__': <attribute '__weakref__' of 'test' objects>, '__doc__': None, 'b': 20, 'c': 30, 'd': 40, 'e': 50, 'f': 60}\n",
      "{'__module__': '__main__', 'a': 10, '__init__': <function test.__init__ at 0x000001D8B3AE6D30>, 'm1': <function test.m1 at 0x000001D8B3AE6A60>, 'm2': <classmethod object at 0x000001D8B3AFFA00>, 'm3': <staticmethod object at 0x000001D8B3AFFA30>, '__dict__': <attribute '__dict__' of 'test' objects>, '__weakref__': <attribute '__weakref__' of 'test' objects>, '__doc__': None, 'b': 20, 'c': 30, 'd': 40, 'e': 50, 'f': 90}\n"
     ]
    }
   ],
   "source": [
    "#eg pgm to declare static variable in various places\n",
    "class test:\n",
    "    a=10\n",
    "    def __init__(self):\n",
    "        test.b=20\n",
    "    def m1(self):\n",
    "        test.c=30\n",
    "    @classmethod #decorator\n",
    "    def m2(cls):\n",
    "        cls.d=40\n",
    "        test.e=50\n",
    "    @staticmethod #decorator\n",
    "    def m3():\n",
    "        test.f=60\n",
    "print(test.__dict__)\n",
    "t1=test()\n",
    "print(test.__dict__)\n",
    "t1.m1()\n",
    "print(test.__dict__)\n",
    "test.m2()\n",
    "print(test.__dict__)\n",
    "test.m3()\n",
    "print(test.__dict__)\n",
    "test.f=90\n",
    "print(test.__dict__)"
   ]
  },
  {
   "cell_type": "code",
   "execution_count": 17,
   "metadata": {},
   "outputs": [
    {
     "name": "stdout",
     "output_type": "stream",
     "text": [
      "{'__module__': '__main__', 'b': 20, 'c': 30, 'm1': <classmethod object at 0x000001D8B3AFF610>, 'm2': <staticmethod object at 0x000001D8B3AFF490>, '__dict__': <attribute '__dict__' of 'test' objects>, '__weakref__': <attribute '__weakref__' of 'test' objects>, '__doc__': None}\n",
      "{'__module__': '__main__', 'c': 30, 'm1': <classmethod object at 0x000001D8B3AFF610>, 'm2': <staticmethod object at 0x000001D8B3AFF490>, '__dict__': <attribute '__dict__' of 'test' objects>, '__weakref__': <attribute '__weakref__' of 'test' objects>, '__doc__': None}\n"
     ]
    }
   ],
   "source": [
    "class test:\n",
    "    a=10\n",
    "    b=20\n",
    "    c=30\n",
    "    @classmethod\n",
    "    def m1(cls):\n",
    "        del cls.a\n",
    "    @staticmethod\n",
    "    def m2():\n",
    "        del test.b\n",
    "test.m1()\n",
    "print(test.__dict__)\n",
    "test.m2()\n",
    "print(test.__dict__)"
   ]
  },
  {
   "cell_type": "markdown",
   "metadata": {},
   "source": [
    "##### modifying the value of static variable "
   ]
  },
  {
   "cell_type": "markdown",
   "metadata": {},
   "source": [
    "Anywhere we can modify the values of static variables by using class name but inside class method with class variable"
   ]
  },
  {
   "cell_type": "code",
   "execution_count": 16,
   "metadata": {},
   "outputs": [
    {
     "name": "stdout",
     "output_type": "stream",
     "text": [
      "10\n",
      "888\n",
      "999\n"
     ]
    }
   ],
   "source": [
    "class test:\n",
    "    a=10\n",
    "    @classmethod\n",
    "    def m1(cls):\n",
    "        cls.a=888\n",
    "    @staticmethod\n",
    "    def m2():\n",
    "        test.a=999\n",
    "print(test.a)\n",
    "test.m1()\n",
    "print(test.a)\n",
    "test.m2()\n",
    "print(test.a)"
   ]
  },
  {
   "cell_type": "markdown",
   "metadata": {},
   "source": [
    "### Variables"
   ]
  },
  {
   "cell_type": "code",
   "execution_count": 22,
   "metadata": {},
   "outputs": [
    {
     "name": "stdout",
     "output_type": "stream",
     "text": [
      "{'eno': 100, 'ename': 'tanuja', 'esal': 10000}\n"
     ]
    }
   ],
   "source": [
    "class employee:\n",
    "    def __init__(self):\n",
    "        self.eno=100\n",
    "        self.ename=\"tanuja\"\n",
    "        self.esal=10000\n",
    "e=employee()\n",
    "print(e.__dict__)"
   ]
  },
  {
   "cell_type": "code",
   "execution_count": 23,
   "metadata": {},
   "outputs": [
    {
     "name": "stdout",
     "output_type": "stream",
     "text": [
      "{'a': 10, 'b': 20, 'c': 30}\n"
     ]
    }
   ],
   "source": [
    "class test:\n",
    "    def __init__(self):\n",
    "        self.a=10\n",
    "        self.b=20\n",
    "    def m1(self):\n",
    "        self.c=30\n",
    "t=test()\n",
    "t.m1()\n",
    "print(t.__dict__)"
   ]
  },
  {
   "cell_type": "code",
   "execution_count": 2,
   "metadata": {},
   "outputs": [
    {
     "name": "stdout",
     "output_type": "stream",
     "text": [
      "{'a': 10, 'b': 20, 'c': 30, 'd': 40}\n"
     ]
    }
   ],
   "source": [
    "class test:\n",
    "    def __init__(self):\n",
    "        self.a=10\n",
    "        self.b=20\n",
    "    def m1(self):\n",
    "        self.c=30\n",
    "t=test()\n",
    "t.m1()\n",
    "t.d=40\n",
    "print(t.__dict__)"
   ]
  },
  {
   "cell_type": "code",
   "execution_count": null,
   "metadata": {},
   "outputs": [],
   "source": [
    "class student:\n",
    "    def __init__(self):\n",
    "        self.name=\"tanuja\"\n",
    "        self.marks=100\n",
    "    def m1(self): #m1=instance method which must contain one argument i.e., self variable\n",
    "        self.id=85"
   ]
  },
  {
   "cell_type": "code",
   "execution_count": 1,
   "metadata": {},
   "outputs": [],
   "source": [
    "class student:\n",
    "    def __init__(self):\n",
    "        self.name=\"tanuja\"\n",
    "        self.marks=100\n",
    "    def m1(self):\n",
    "        self.id=85\n",
    "x=student() #x=object reference variable\n",
    "x.age=22"
   ]
  },
  {
   "cell_type": "code",
   "execution_count": 2,
   "metadata": {},
   "outputs": [
    {
     "name": "stdout",
     "output_type": "stream",
     "text": [
      "{'name': 'tanuja', 'marks': 100, 'age': 22, 'id': 85}\n"
     ]
    }
   ],
   "source": [
    "#example pgm\n",
    "class student:\n",
    "    #inside constructor\n",
    "    def __init__(self):\n",
    "        self.name=\"tanuja\"\n",
    "        self.marks=100\n",
    "    #inside instance method\n",
    "    def m1(self):\n",
    "        self.id=85\n",
    "#outside of the class\n",
    "x=student() #x=object reference variable creation \n",
    "x.age=22 #creating instance variable with object reference variable\n",
    "x.m1()\n",
    "print(x.__dict__)"
   ]
  },
  {
   "cell_type": "markdown",
   "metadata": {},
   "source": [
    "### How to access instance variables "
   ]
  },
  {
   "cell_type": "code",
   "execution_count": 3,
   "metadata": {},
   "outputs": [
    {
     "name": "stdout",
     "output_type": "stream",
     "text": [
      "tanuja\n",
      "100\n",
      "tanuja 100\n"
     ]
    }
   ],
   "source": [
    "class student:\n",
    "    def __init__(self):\n",
    "        self.name=\"tanuja\"\n",
    "        self.marks=100\n",
    "    def m1(self):\n",
    "        print(self.name)\n",
    "        print(self.marks)\n",
    "x=student()\n",
    "x.m1()\n",
    "print(x.name,x.marks)"
   ]
  },
  {
   "cell_type": "markdown",
   "metadata": {},
   "source": [
    "### How to delete instance variable from the object "
   ]
  },
  {
   "cell_type": "markdown",
   "metadata": {},
   "source": [
    "1. Within the class we can delete instance variables with self\n",
    "example: del self.variableName\n",
    "2. from outside of the class we can delete instance variable with object reference variable\n",
    "example: del objectreferencevariable.variablename"
   ]
  },
  {
   "cell_type": "code",
   "execution_count": 6,
   "metadata": {},
   "outputs": [
    {
     "name": "stdout",
     "output_type": "stream",
     "text": [
      "tanuja\n",
      "20\n",
      "10000\n",
      "{'name': 'tanuja', 'age': 20}\n"
     ]
    }
   ],
   "source": [
    "#eg pgm to delete instance variables inside class\n",
    "class student:\n",
    "    def __init__(self):\n",
    "        self.name=\"tanuja\"\n",
    "        self.age=20\n",
    "        self.sal=10000\n",
    "    def m1(self):\n",
    "        print(self.name)\n",
    "        print(self.age)\n",
    "        print(self.sal)\n",
    "x=student()\n",
    "x.m1()\n",
    "del x.sal\n",
    "print(x.__dict__)\n"
   ]
  },
  {
   "cell_type": "code",
   "execution_count": null,
   "metadata": {},
   "outputs": [],
   "source": [
    "import sys\n",
    "class customer:\n",
    "    bankname=\"IOBI BANK\"\n",
    "    def __init__(self,name,balance=0):\n",
    "        self.name=name\n",
    "        self.balance=balance\n",
    "    def deposit(self,amnt):\n",
    "        self.balance=self.balance+amnt\n",
    "        print(\"Ur total balance is:\",self.balance)\n",
    "    def withdraw(self,amnt):\n",
    "        if amnt>self.balance:\n",
    "            print(\"Insufficient funds in ur account.....\")\n",
    "            sys.exit()\n",
    "        self.balance=self.balance-amnt\n",
    "        print(\"Ur account balance after withdraw the amount....\")\n",
    "print(\"Welcome to\",customer.bankname)\n",
    "name=input(\"Enter ur name:\")\n",
    "c=customer(name)\n",
    "while True:\n",
    "    print(\"D-Deposit \\n W-Withdraw \\n E-Exit\")\n",
    "    option=\"d\" or option=\"\""
   ]
  },
  {
   "cell_type": "markdown",
   "metadata": {},
   "source": [
    "### 3.Local variables "
   ]
  },
  {
   "cell_type": "code",
   "execution_count": 1,
   "metadata": {},
   "outputs": [
    {
     "name": "stdout",
     "output_type": "stream",
     "text": [
      "100\n",
      "200\n"
     ]
    }
   ],
   "source": [
    "#example pgm\n",
    "class test:\n",
    "    def m1(self):\n",
    "        a=100\n",
    "        print(a)\n",
    "    def m2(self):\n",
    "        b=200\n",
    "        print(b)\n",
    "t=test()\n",
    "t.m1()\n",
    "t.m2()"
   ]
  },
  {
   "cell_type": "code",
   "execution_count": 2,
   "metadata": {},
   "outputs": [
    {
     "name": "stdout",
     "output_type": "stream",
     "text": [
      "100\n"
     ]
    },
    {
     "ename": "NameError",
     "evalue": "name 'a' is not defined",
     "output_type": "error",
     "traceback": [
      "\u001b[1;31m---------------------------------------------------------------------------\u001b[0m",
      "\u001b[1;31mNameError\u001b[0m                                 Traceback (most recent call last)",
      "\u001b[1;32m<ipython-input-2-30f0bd21e6c8>\u001b[0m in \u001b[0;36m<module>\u001b[1;34m\u001b[0m\n\u001b[0;32m      9\u001b[0m \u001b[0mt\u001b[0m\u001b[1;33m=\u001b[0m\u001b[0mtest\u001b[0m\u001b[1;33m(\u001b[0m\u001b[1;33m)\u001b[0m\u001b[1;33m\u001b[0m\u001b[1;33m\u001b[0m\u001b[0m\n\u001b[0;32m     10\u001b[0m \u001b[0mt\u001b[0m\u001b[1;33m.\u001b[0m\u001b[0mm1\u001b[0m\u001b[1;33m(\u001b[0m\u001b[1;33m)\u001b[0m\u001b[1;33m\u001b[0m\u001b[1;33m\u001b[0m\u001b[0m\n\u001b[1;32m---> 11\u001b[1;33m \u001b[0mt\u001b[0m\u001b[1;33m.\u001b[0m\u001b[0mm2\u001b[0m\u001b[1;33m(\u001b[0m\u001b[1;33m)\u001b[0m\u001b[1;33m\u001b[0m\u001b[1;33m\u001b[0m\u001b[0m\n\u001b[0m",
      "\u001b[1;32m<ipython-input-2-30f0bd21e6c8>\u001b[0m in \u001b[0;36mm2\u001b[1;34m(self)\u001b[0m\n\u001b[0;32m      5\u001b[0m     \u001b[1;32mdef\u001b[0m \u001b[0mm2\u001b[0m\u001b[1;33m(\u001b[0m\u001b[0mself\u001b[0m\u001b[1;33m)\u001b[0m\u001b[1;33m:\u001b[0m\u001b[1;33m\u001b[0m\u001b[1;33m\u001b[0m\u001b[0m\n\u001b[0;32m      6\u001b[0m         \u001b[0mb\u001b[0m\u001b[1;33m=\u001b[0m\u001b[1;36m200\u001b[0m\u001b[1;33m\u001b[0m\u001b[1;33m\u001b[0m\u001b[0m\n\u001b[1;32m----> 7\u001b[1;33m         \u001b[0mprint\u001b[0m\u001b[1;33m(\u001b[0m\u001b[0ma\u001b[0m\u001b[1;33m)\u001b[0m\u001b[1;33m\u001b[0m\u001b[1;33m\u001b[0m\u001b[0m\n\u001b[0m\u001b[0;32m      8\u001b[0m         \u001b[0mprint\u001b[0m\u001b[1;33m(\u001b[0m\u001b[0mb\u001b[0m\u001b[1;33m)\u001b[0m\u001b[1;33m\u001b[0m\u001b[1;33m\u001b[0m\u001b[0m\n\u001b[0;32m      9\u001b[0m \u001b[0mt\u001b[0m\u001b[1;33m=\u001b[0m\u001b[0mtest\u001b[0m\u001b[1;33m(\u001b[0m\u001b[1;33m)\u001b[0m\u001b[1;33m\u001b[0m\u001b[1;33m\u001b[0m\u001b[0m\n",
      "\u001b[1;31mNameError\u001b[0m: name 'a' is not defined"
     ]
    }
   ],
   "source": [
    "class test:\n",
    "    def m1(self):\n",
    "        a=100\n",
    "        print(a)\n",
    "    def m2(self):\n",
    "        b=200\n",
    "        print(a)\n",
    "        print(b)\n",
    "t=test()\n",
    "t.m1()\n",
    "t.m2()"
   ]
  },
  {
   "cell_type": "markdown",
   "metadata": {},
   "source": [
    "## Types of methods "
   ]
  },
  {
   "cell_type": "markdown",
   "metadata": {},
   "source": [
    "1. Instance method\n",
    "\n",
    "2. Class method\n",
    "\n",
    "3. Static method"
   ]
  },
  {
   "cell_type": "markdown",
   "metadata": {},
   "source": [
    "### 1.Instance method"
   ]
  },
  {
   "cell_type": "code",
   "execution_count": null,
   "metadata": {},
   "outputs": [],
   "source": [
    "inside a method implementation if we are using instance variables is called as instance method\n",
    "\n",
    "syntax:\n",
    "    def methodname(self):\n",
    "        ----------------\n",
    "        ----------------\n",
    "        ---------------\n",
    "        \n",
    "by using self variable inside method we can able to access the instance variables from outside of the method,class"
   ]
  },
  {
   "cell_type": "code",
   "execution_count": 20,
   "metadata": {},
   "outputs": [
    {
     "name": "stdout",
     "output_type": "stream",
     "text": [
      "Enter no. of students:3\n",
      "Enter nametanuja\n",
      "Enter marks:98\n",
      "Ur name is: tanuja\n",
      "Ur marks are: 98\n",
      "U got A grade\n",
      "\n",
      "Enter namesai\n",
      "Enter marks:34\n",
      "Ur name is: sai\n",
      "Ur marks are: 34\n",
      "fail\n",
      "\n",
      "Enter namehima\n",
      "Enter marks:56\n",
      "Ur name is: hima\n",
      "Ur marks are: 56\n",
      "U got B grade\n",
      "\n"
     ]
    }
   ],
   "source": [
    "#example pgm for instance method\n",
    "class student:\n",
    "    def __init__(self,name,marks): #if we want to give user defined values then we have to declare in the constructor\n",
    "        self.name=name\n",
    "        self.marks=marks\n",
    "    def display(self):\n",
    "        print(\"Ur name is:\",self.name)\n",
    "        print(\"Ur marks are:\",self.marks)\n",
    "    def grade(self):\n",
    "        if self.marks>=60:\n",
    "            print(\"U got A grade\")\n",
    "        elif self.marks>40 and self.marks<60:\n",
    "            print(\"U got B grade\")\n",
    "        else:\n",
    "            print(\"fail\")\n",
    "n=int(input(\"Enter no. of students:\"))\n",
    "for i in range(n):\n",
    "    name=input(\"Enter name\")\n",
    "    marks=int(input(\"Enter marks:\"))\n",
    "    s=student(name,marks)\n",
    "    s.display()\n",
    "    s.grade()\n",
    "    print()"
   ]
  },
  {
   "cell_type": "markdown",
   "metadata": {},
   "source": [
    "## 2.Class method: "
   ]
  },
  {
   "cell_type": "markdown",
   "metadata": {},
   "source": [
    "Inside method implementation if we are using only class variables(static variables) then such type of methods we should  declare as class method\n",
    "\n",
    "We can declare class method explicitly by using @classmethod decorator\n",
    "\n",
    "For class method we should provide class variable at the time of declaration\n",
    "\n",
    "We can call classmethod by using classname or object reference variable"
   ]
  },
  {
   "cell_type": "code",
   "execution_count": 3,
   "metadata": {},
   "outputs": [
    {
     "name": "stdout",
     "output_type": "stream",
     "text": [
      "dog walks with 4 legs\n",
      "cat walks with 4 legs\n"
     ]
    }
   ],
   "source": [
    "#eg pgm to understand class method:\n",
    "class animal:\n",
    "    legs=4\n",
    "    @classmethod\n",
    "    def walk(cls,name):\n",
    "        print('{} walks with {} legs'.format(name,cls.legs))\n",
    "animal.walk(\"dog\")\n",
    "animal.walk(\"cat\")"
   ]
  },
  {
   "cell_type": "code",
   "execution_count": 5,
   "metadata": {},
   "outputs": [
    {
     "name": "stdout",
     "output_type": "stream",
     "text": [
      "No. of objects for test class: 2\n",
      "No. of objects for test class: 5\n"
     ]
    }
   ],
   "source": [
    "#pgm to track the no. of objects created for class:\n",
    "class test:\n",
    "    count=0\n",
    "    def __init__(self):\n",
    "        test.count=test.count+1\n",
    "    @classmethod\n",
    "    def noofobjects(cls):\n",
    "        print(\"No. of objects for test class:\",cls.count)\n",
    "t1=test()\n",
    "t2=test()\n",
    "test.noofobjects()\n",
    "t3=test()\n",
    "t4=test()\n",
    "t5=test()\n",
    "test.noofobjects()"
   ]
  },
  {
   "cell_type": "markdown",
   "metadata": {},
   "source": [
    "## 3.Static method: "
   ]
  },
  {
   "cell_type": "markdown",
   "metadata": {},
   "source": [
    "In general these methods are general utility methods\n",
    "\n",
    "Here we won't provide self or cls arguments at the time of declaration\n",
    "\n",
    "Inside these methods we won't use any instance or class variables\n",
    "\n",
    "We can declare static method explicitly by using @staticmethod decorator\n",
    "\n",
    "We can access static methods by using classname or object reference"
   ]
  },
  {
   "cell_type": "code",
   "execution_count": 7,
   "metadata": {},
   "outputs": [
    {
     "name": "stdout",
     "output_type": "stream",
     "text": [
      "The sum is: 30\n",
      "The average is: 10.0\n",
      "The product is: 200\n"
     ]
    }
   ],
   "source": [
    "class venkymath:\n",
    "    @staticmethod\n",
    "    def add(x,y):\n",
    "        print(\"The sum is:\",x+y)\n",
    "    @staticmethod\n",
    "    def average(x,y):\n",
    "        print(\"The average is:\",(x+y)/2)\n",
    "    @staticmethod\n",
    "    def product(x,y):\n",
    "        print(\"The product is:\",x*y)\n",
    "venkymath.add(10,20)\n",
    "venkymath.average(10,10)\n",
    "venkymath.product(10,20)"
   ]
  },
  {
   "cell_type": "code",
   "execution_count": 8,
   "metadata": {},
   "outputs": [
    {
     "name": "stdout",
     "output_type": "stream",
     "text": [
      "10\n",
      "Class method execution\n",
      "10\n",
      "Static method execution\n",
      "10\n"
     ]
    }
   ],
   "source": [
    "#if u will not modify the value of static variable\n",
    "class test:\n",
    "    a=10\n",
    "    @classmethod\n",
    "    def m1(cls):\n",
    "        a=888\n",
    "        print(\"Class method execution\")\n",
    "    @staticmethod\n",
    "    def m2():\n",
    "        a=999\n",
    "        print(\"Static method execution\")\n",
    "print(test.a)\n",
    "test.m1()\n",
    "print(test.a)\n",
    "test.m2()\n",
    "print(test.a)"
   ]
  },
  {
   "cell_type": "code",
   "execution_count": 4,
   "metadata": {},
   "outputs": [
    {
     "name": "stdout",
     "output_type": "stream",
     "text": [
      "Constructor static variable with classname: 20\n",
      "Constructor static variable with self: 20\n",
      "From outside of the class with class name: 10\n",
      "Instancemethod static variable with classname: 30\n",
      "Instancemethod static variable with self: 30\n",
      "Classmethod static variable with classname: 40\n",
      "Classmethod static variable with self: 40\n",
      "Staticmethod static variable with class name: 60\n"
     ]
    }
   ],
   "source": [
    "class test:\n",
    "    a=10\n",
    "    def __init__(self):\n",
    "        test.b=20\n",
    "        print(\"Constructor static variable with classname:\",test.b)\n",
    "        print(\"Constructor static variable with self:\",self.b)\n",
    "    def m1(self):\n",
    "        test.c=30\n",
    "        print(\"Instancemethod static variable with classname:\",test.c)\n",
    "        print(\"Instancemethod static variable with self:\",self.c)\n",
    "        \n",
    "    @classmethod #decorator\n",
    "    def m2(cls):\n",
    "        cls.d=40\n",
    "        test.e=50\n",
    "        print(\"Classmethod static variable with classname:\",test.d)\n",
    "        print(\"Classmethod static variable with self:\",cls.d)\n",
    "    @staticmethod #decorator\n",
    "    def m3():\n",
    "        test.f=60\n",
    "        print(\"Staticmethod static variable with class name:\",test.f)\n",
    "t=test()\n",
    "print(\"From outside of the class with class name:\",test.a)\n",
    "t.m1()\n",
    "t.m2()\n",
    "t.m3()"
   ]
  },
  {
   "cell_type": "markdown",
   "metadata": {},
   "source": [
    "### Deleting of static variable "
   ]
  },
  {
   "cell_type": "markdown",
   "metadata": {},
   "source": [
    "from anywhere we can use classname to delete\n",
    "\n",
    "from inside of class method we can also cls variable"
   ]
  },
  {
   "cell_type": "code",
   "execution_count": 19,
   "metadata": {},
   "outputs": [
    {
     "name": "stdout",
     "output_type": "stream",
     "text": [
      "{'__module__': '__main__', 'm1': <classmethod object at 0x000001D8B3AFFC40>, '__dict__': <attribute '__dict__' of 'test' objects>, '__weakref__': <attribute '__weakref__' of 'test' objects>, '__doc__': None}\n"
     ]
    }
   ],
   "source": [
    "class test:\n",
    "    a=10\n",
    "    @classmethod\n",
    "    def m1(cls):\n",
    "        del cls.a\n",
    "test.m1()\n",
    "print(test.__dict__)"
   ]
  },
  {
   "cell_type": "markdown",
   "metadata": {},
   "source": [
    "## Destructors: "
   ]
  },
  {
   "cell_type": "markdown",
   "metadata": {},
   "source": [
    "Destructor is a special method and the name should be \"del\".\n",
    "\n",
    "Just before destroying an object garbage collector always calls destructor to perform cleanup activities(resource deallocation activities like close database connection etc).\n",
    "\n",
    "Once destructor execution completed then garbage collector automatically destroys the object.\n",
    "\n",
    "Note: The job of destructor is not to destroy object and it is just to perform cleanup activities."
   ]
  },
  {
   "cell_type": "code",
   "execution_count": 3,
   "metadata": {},
   "outputs": [
    {
     "name": "stdout",
     "output_type": "stream",
     "text": [
      "Object initialization....\n",
      "Destructor is cleanup the activities...\n",
      "End of application\n"
     ]
    }
   ],
   "source": [
    "#eg pgm for destructor:\n",
    "import time\n",
    "class test:\n",
    "    def __init__(self):\n",
    "        print(\"Object initialization....\")\n",
    "    def __del__(self):\n",
    "        print(\"Destructor is cleanup the activities...\")\n",
    "t1=test()\n",
    "t1=None\n",
    "time.sleep(5)\n",
    "print(\"End of application\")"
   ]
  },
  {
   "cell_type": "code",
   "execution_count": 13,
   "metadata": {},
   "outputs": [
    {
     "name": "stdout",
     "output_type": "stream",
     "text": [
      "constructor execution....\n",
      "Object not yet destroyed after deleting t1\n",
      "Object not yet destroyed even after deleting t2\n",
      "I am trying to delete last reference variable.....\n",
      "Destructor execution....\n"
     ]
    }
   ],
   "source": [
    "#eg pgm...\n",
    "import time\n",
    "class test:\n",
    "    def __init__(self):\n",
    "        print(\"constructor execution....\")\n",
    "    def __del__(self):\n",
    "        print(\"Destructor execution....\")\n",
    "t1=test()\n",
    "t2=t1\n",
    "t3=t2\n",
    "del t1\n",
    "time.sleep(5)\n",
    "print(\"Object not yet destroyed after deleting t1\")\n",
    "del t2\n",
    "time.sleep(5)\n",
    "print(\"Object not yet destroyed even after deleting t2\")\n",
    "print(\"I am trying to delete last reference variable.....\")\n",
    "del t3"
   ]
  },
  {
   "cell_type": "markdown",
   "metadata": {},
   "source": [
    "## Class "
   ]
  },
  {
   "cell_type": "code",
   "execution_count": 29,
   "metadata": {},
   "outputs": [
    {
     "name": "stdout",
     "output_type": "stream",
     "text": [
      "My name is: tanuja\n",
      "My salary is: 100000\n",
      "My age is: 20\n"
     ]
    }
   ],
   "source": [
    "class employee:\n",
    "    def __init__(tanuja,name,salary,age): #inplace of tanuja write self #constructor\n",
    "        \n",
    "        tanuja.name=name\n",
    "        tanuja.salary=salary\n",
    "        tanuja.age=age\n",
    "    def talk(tanuja): #instance(temporary) method #talk is a function name\n",
    "        print(\"My name is:\",tanuja.name)\n",
    "        print(\"My salary is:\",tanuja.salary)\n",
    "        print(\"My age is:\",tanuja.age)\n",
    "e1=employee(\"tanuja\",100000,20)\n",
    "e1.talk()"
   ]
  },
  {
   "cell_type": "code",
   "execution_count": 14,
   "metadata": {},
   "outputs": [
    {
     "name": "stdout",
     "output_type": "stream",
     "text": [
      "hello this is a doc string\n",
      "Help on class student in module __main__:\n",
      "\n",
      "class student(builtins.object)\n",
      " |  hello this is a doc string\n",
      " |  \n",
      " |  Data descriptors defined here:\n",
      " |  \n",
      " |  __dict__\n",
      " |      dictionary for instance variables (if defined)\n",
      " |  \n",
      " |  __weakref__\n",
      " |      list of weak references to the object (if defined)\n",
      "\n"
     ]
    }
   ],
   "source": [
    "class student:\n",
    "    '''hello this is a doc string'''\n",
    "print(student.__doc__)\n",
    "help(student)"
   ]
  },
  {
   "cell_type": "markdown",
   "metadata": {},
   "source": [
    "## Try:"
   ]
  },
  {
   "cell_type": "code",
   "execution_count": 9,
   "metadata": {},
   "outputs": [
    {
     "name": "stdout",
     "output_type": "stream",
     "text": [
      "Enter a no.ten\n",
      "U shouldnot enter string as input.....please enter only nos\n",
      "y is not defined please define the y with some value\n"
     ]
    }
   ],
   "source": [
    "try:\n",
    "    x=int(input(\"Enter a no.\"))\n",
    "except ValueError:\n",
    "    print(\"U shouldnot enter string as input.....please enter only nos\")\n",
    "try:\n",
    "    print(y)\n",
    "except NameError:\n",
    "    print(\"y is not defined please define the y with some value\")"
   ]
  },
  {
   "cell_type": "markdown",
   "metadata": {},
   "source": [
    "### try: with multiple exceptions "
   ]
  },
  {
   "cell_type": "code",
   "execution_count": 10,
   "metadata": {},
   "outputs": [
    {
     "ename": "NameError",
     "evalue": "name 'y' is not defined",
     "output_type": "error",
     "traceback": [
      "\u001b[1;31m---------------------------------------------------------------------------\u001b[0m",
      "\u001b[1;31mNameError\u001b[0m                                 Traceback (most recent call last)",
      "\u001b[1;32m<ipython-input-10-c3f2e36c14ea>\u001b[0m in \u001b[0;36m<module>\u001b[1;34m\u001b[0m\n\u001b[0;32m      1\u001b[0m \u001b[1;32mtry\u001b[0m\u001b[1;33m:\u001b[0m\u001b[1;33m\u001b[0m\u001b[1;33m\u001b[0m\u001b[0m\n\u001b[1;32m----> 2\u001b[1;33m     \u001b[0mprint\u001b[0m\u001b[1;33m(\u001b[0m\u001b[0my\u001b[0m\u001b[1;33m)\u001b[0m\u001b[1;33m\u001b[0m\u001b[1;33m\u001b[0m\u001b[0m\n\u001b[0m\u001b[0;32m      3\u001b[0m     \u001b[0mx\u001b[0m\u001b[1;33m=\u001b[0m\u001b[0mint\u001b[0m\u001b[1;33m(\u001b[0m\u001b[0minput\u001b[0m\u001b[1;33m(\u001b[0m\u001b[1;34m\"Enter a no.\"\u001b[0m\u001b[1;33m)\u001b[0m\u001b[1;33m)\u001b[0m\u001b[1;33m\u001b[0m\u001b[1;33m\u001b[0m\u001b[0m\n\u001b[0;32m      4\u001b[0m \u001b[1;32mexcept\u001b[0m \u001b[0mValueError\u001b[0m\u001b[1;33m:\u001b[0m\u001b[1;33m\u001b[0m\u001b[1;33m\u001b[0m\u001b[0m\n\u001b[0;32m      5\u001b[0m     \u001b[0mprint\u001b[0m\u001b[1;33m(\u001b[0m\u001b[1;34m\"U shouldnot enter string as input...please enter only nos\"\u001b[0m\u001b[1;33m)\u001b[0m\u001b[1;33m\u001b[0m\u001b[1;33m\u001b[0m\u001b[0m\n",
      "\u001b[1;31mNameError\u001b[0m: name 'y' is not defined"
     ]
    }
   ],
   "source": [
    "try:\n",
    "    print(y)\n",
    "    x=int(input(\"Enter a no.\"))\n",
    "except ValueError:\n",
    "    print(\"U shouldnot enter string as input...please enter only nos\")\n",
    "try:\n",
    "    print(y)\n",
    "except NameError:\n",
    "    print(\"y is not defined please define the y with some value\")"
   ]
  },
  {
   "cell_type": "markdown",
   "metadata": {},
   "source": [
    "### Self variable "
   ]
  },
  {
   "cell_type": "markdown",
   "metadata": {},
   "source": [
    "self is the default variable which always pointing to current object(like \"this\" keyword in java)\n",
    "\n",
    "1. self should be first parameter inside constructor. def __init__(self).\n",
    "\n",
    "2. self should be first parameter inside instance methods. def talk(self)."
   ]
  },
  {
   "cell_type": "markdown",
   "metadata": {},
   "source": [
    "# Setter and Getter methods"
   ]
  },
  {
   "cell_type": "markdown",
   "metadata": {},
   "source": [
    "## Setter methods "
   ]
  },
  {
   "cell_type": "code",
   "execution_count": null,
   "metadata": {},
   "outputs": [],
   "source": [
    "setter methods can be used to set the values of instance variables.\n",
    "setter methods are also known as mutator methods.\n",
    "\n",
    "syntax:\n",
    "    def setvariable(self,variable):\n",
    "        self.variable=variable"
   ]
  },
  {
   "cell_type": "code",
   "execution_count": null,
   "metadata": {},
   "outputs": [],
   "source": [
    "#example pgm\n",
    "def setname(self,name):\n",
    "    self.name=name"
   ]
  },
  {
   "cell_type": "markdown",
   "metadata": {},
   "source": [
    "## Getter methods "
   ]
  },
  {
   "cell_type": "code",
   "execution_count": null,
   "metadata": {},
   "outputs": [],
   "source": [
    "Getter methods can be used to get the values of instance variables.\n",
    "Getter methods are also known as accessor methods.\n",
    "\n",
    "syntax:\n",
    "    def getvariable(self):\n",
    "        return self.variable"
   ]
  },
  {
   "cell_type": "code",
   "execution_count": null,
   "metadata": {},
   "outputs": [],
   "source": [
    "#example pgm\n",
    "def getname(self):\n",
    "    return self.name"
   ]
  },
  {
   "cell_type": "code",
   "execution_count": 23,
   "metadata": {},
   "outputs": [
    {
     "name": "stdout",
     "output_type": "stream",
     "text": [
      "Enter no. of students.....3\n",
      "Enter name:tanuja\n",
      "Enter marks....100\n",
      "hi tanuja\n",
      "Ur marks are: 100\n",
      "\n",
      "Enter name:sai\n",
      "Enter marks....100\n",
      "hi sai\n",
      "Ur marks are: 100\n",
      "\n",
      "Enter name:chava\n",
      "Enter marks....95\n",
      "hi chava\n",
      "Ur marks are: 95\n",
      "\n"
     ]
    }
   ],
   "source": [
    "#example pgm to understand setter and getter methods:\n",
    "class student:\n",
    "    def setname(self,name): #mutator\n",
    "        self.name=name\n",
    "    def getname(self): #accessor\n",
    "        return self.name\n",
    "    def setmarks(self,marks):\n",
    "        self.marks=marks\n",
    "    def getmarks(self):\n",
    "        return self.marks\n",
    "n=int(input(\"Enter no. of students.....\"))\n",
    "for i in range(n):\n",
    "    s=student() #object reference variable\n",
    "    name=input(\"Enter name:\")\n",
    "    s.setname(name)\n",
    "    marks=int(input(\"Enter marks....\"))\n",
    "    s.setmarks(marks)\n",
    "    print(\"hi\",s.getname())\n",
    "    print(\"Ur marks are:\",s.getmarks())\n",
    "    print()"
   ]
  },
  {
   "cell_type": "markdown",
   "metadata": {},
   "source": [
    "## Passing members of one class to another class:"
   ]
  },
  {
   "cell_type": "markdown",
   "metadata": {},
   "source": [
    "we can access the members of one class inside another class"
   ]
  },
  {
   "cell_type": "code",
   "execution_count": 24,
   "metadata": {},
   "outputs": [
    {
     "name": "stdout",
     "output_type": "stream",
     "text": [
      "Employee number is: 100\n",
      "Employee name is: venky\n",
      "Employee sal is: 110000\n"
     ]
    }
   ],
   "source": [
    "#eg pgm to passing members of one class to another class:\n",
    "class employee:\n",
    "    def  __init__(self,eno,ename,esal):\n",
    "        self.eno=eno\n",
    "        self.ename=ename\n",
    "        self.esal=esal\n",
    "    def display(self): #instance method\n",
    "        print(\"Employee number is:\",self.eno)\n",
    "        print(\"Employee name is:\",self.ename)\n",
    "        print(\"Employee sal is:\",self.esal)\n",
    "class test:\n",
    "    def modify(emp):\n",
    "        emp.esal=emp.esal+10000\n",
    "        emp.display()\n",
    "e=employee(100,\"venky\",100000)\n",
    "test.modify(e)"
   ]
  },
  {
   "cell_type": "code",
   "execution_count": 25,
   "metadata": {},
   "outputs": [
    {
     "name": "stdout",
     "output_type": "stream",
     "text": [
      "Employee number is: 100\n",
      "Employee name is: venky\n",
      "Employee sal is: 100000\n",
      "\n",
      "Employee number is: 100\n",
      "Employee name is: venky\n",
      "Employee sal is: 110000\n"
     ]
    }
   ],
   "source": [
    "#eg pgm to passing members of one class to another class:\n",
    "class employee:\n",
    "    def  __init__(self,eno,ename,esal):\n",
    "        self.eno=eno\n",
    "        self.ename=ename\n",
    "        self.esal=esal\n",
    "    def display(self): #instance method\n",
    "        print(\"Employee number is:\",self.eno)\n",
    "        print(\"Employee name is:\",self.ename)\n",
    "        print(\"Employee sal is:\",self.esal)\n",
    "class test:\n",
    "    def modify(emp):\n",
    "        emp.esal=emp.esal+10000\n",
    "        emp.display()\n",
    "e=employee(100,\"venky\",100000)\n",
    "e.display()\n",
    "print()\n",
    "test.modify(e)"
   ]
  },
  {
   "cell_type": "markdown",
   "metadata": {},
   "source": [
    "In the above example pgm employee class members are available to test class."
   ]
  },
  {
   "cell_type": "markdown",
   "metadata": {},
   "source": [
    "## Inner classes: "
   ]
  },
  {
   "cell_type": "markdown",
   "metadata": {},
   "source": [
    "Sometimes we can declare a class inside another class such type of class are called as inner classes.\n",
    "\n",
    "Without existing one type of object if there is no chance of existing another type of object, then we should go for inner classes.\n",
    "\n",
    "Example:Without existing CAR object there is no chance of existing ENGINE object. Hence ENGINE class should be part of CAR class.\n",
    "\n",
    "class CAR:\n",
    "    ..........\n",
    "    \n",
    "    class ENGINE:\n",
    "        ...........\n",
    "        \n",
    "Example-2:Without existing UNIVERSITY object there is no chance of existing DEPARTMENT object\n",
    "\n",
    "class UNIVERSITY:\n",
    "     ............\n",
    "     \n",
    "     class DEPARTMENT:\n",
    "          .............\n",
    "          \n",
    "\n",
    "so,\n",
    "   without existing outer class there is no chance of existing inner class object. Hence, inner class object is always without outer class object."
   ]
  },
  {
   "cell_type": "code",
   "execution_count": 27,
   "metadata": {},
   "outputs": [
    {
     "name": "stdout",
     "output_type": "stream",
     "text": [
      "Outer class object creation\n",
      "Inner class object creation\n",
      "Inner class method\n"
     ]
    }
   ],
   "source": [
    "#eg pgm for inner class & outer class:\n",
    "class outerclass:\n",
    "    def __init__(self):\n",
    "        print(\"Outer class object creation\")\n",
    "    class innerclass:\n",
    "        def __init__(self):\n",
    "            print(\"Inner class object creation\")\n",
    "        def m1(self):\n",
    "            print(\"Inner class method\")\n",
    "o=outerclass()\n",
    "i=o.innerclass()\n",
    "i.m1()"
   ]
  },
  {
   "cell_type": "markdown",
   "metadata": {},
   "source": [
    "Note: The following are possible syntax for calling inner class methods"
   ]
  },
  {
   "cell_type": "code",
   "execution_count": null,
   "metadata": {},
   "outputs": [],
   "source": [
    "1. \n",
    "o=outerclass()\n",
    "i=o.innerclass()\n",
    "i.m1()"
   ]
  },
  {
   "cell_type": "code",
   "execution_count": 28,
   "metadata": {},
   "outputs": [
    {
     "name": "stdout",
     "output_type": "stream",
     "text": [
      "Name of the person is: venky\n",
      "DOB=29/2/1947\n"
     ]
    }
   ],
   "source": [
    "#eg pgm for inner & outer classes:\n",
    "class person:\n",
    "    def __init__(self):\n",
    "        self.name=\"venky\"\n",
    "        self.db=self.DOB()\n",
    "    def display(self):\n",
    "        print(\"Name of the person is:\",self.name)\n",
    "    class DOB:\n",
    "        def __init__(self):\n",
    "            self.day=29\n",
    "            self.month=2\n",
    "            self.year=1947\n",
    "        def display(self):\n",
    "            print(\"DOB={}/{}/{}\".format(self.day,self.month,self.year))\n",
    "p=person()\n",
    "p.display()\n",
    "x=p.db\n",
    "x.display()"
   ]
  },
  {
   "cell_type": "markdown",
   "metadata": {},
   "source": [
    "Note: Inside a class we can declare any no. of inner classes"
   ]
  },
  {
   "cell_type": "markdown",
   "metadata": {},
   "source": [
    "## Garbage collection: "
   ]
  },
  {
   "cell_type": "markdown",
   "metadata": {},
   "source": [
    "We have some assistant which is always running in the background to destroy useless objects. Because, this assistant there maybe a chance of failing python pgm with memory prblms is very less. This assistant is nothing but Garbage collector.\n",
    "\n",
    "The main objective of Garbage collector is to destroy useless objects."
   ]
  },
  {
   "cell_type": "markdown",
   "metadata": {},
   "source": [
    "#### How to enable & disable Garbage collector in our pgm: "
   ]
  },
  {
   "cell_type": "markdown",
   "metadata": {},
   "source": [
    "By default garbage collector is enabled but we can disable based on our requirement in this context. We can use the following functions of garbage collector(gc) module."
   ]
  },
  {
   "cell_type": "markdown",
   "metadata": {},
   "source": [
    "1. gc.isenable():\n",
    "    \n",
    "    returns True if gc is enables\n",
    "    \n",
    "    \n",
    "2. gc.disabled():\n",
    "    \n",
    "     to disable gc explicitly\n",
    "     \n",
    " \n",
    "3. gc.enable():\n",
    "     \n",
    "     to enable gc"
   ]
  },
  {
   "cell_type": "code",
   "execution_count": null,
   "metadata": {},
   "outputs": [],
   "source": []
  }
 ],
 "metadata": {
  "kernelspec": {
   "display_name": "Python 3",
   "language": "python",
   "name": "python3"
  },
  "language_info": {
   "codemirror_mode": {
    "name": "ipython",
    "version": 3
   },
   "file_extension": ".py",
   "mimetype": "text/x-python",
   "name": "python",
   "nbconvert_exporter": "python",
   "pygments_lexer": "ipython3",
   "version": "3.8.3"
  }
 },
 "nbformat": 4,
 "nbformat_minor": 2
}
