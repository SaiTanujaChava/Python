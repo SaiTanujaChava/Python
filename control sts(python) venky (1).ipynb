{
 "cells": [
  {
   "cell_type": "markdown",
   "metadata": {},
   "source": [
    "# if:"
   ]
  },
  {
   "cell_type": "code",
   "execution_count": null,
   "metadata": {},
   "outputs": [],
   "source": [
    "syntax:\n",
    "    if condition:\n",
    "        -----------\n",
    "        -----------\n",
    "        -----------"
   ]
  },
  {
   "cell_type": "code",
   "execution_count": 1,
   "metadata": {},
   "outputs": [
    {
     "name": "stdout",
     "output_type": "stream",
     "text": [
      "+ve no.\n"
     ]
    }
   ],
   "source": [
    "#example pgm to check the given no. is +ve\n",
    "n=10\n",
    "if n>0:\n",
    "    print(\"+ve no.\")"
   ]
  },
  {
   "cell_type": "code",
   "execution_count": 5,
   "metadata": {},
   "outputs": [
    {
     "name": "stdout",
     "output_type": "stream",
     "text": [
      "Enter name to wish:tanu\n",
      "Hello tanu Gud evng\n"
     ]
    }
   ],
   "source": [
    "#for wishes\n",
    "name=input(\"Enter name to wish:\")\n",
    "if name==\"tanu\":\n",
    "    print(\"Hello\",name,\"Gud evng\")"
   ]
  },
  {
   "cell_type": "code",
   "execution_count": 6,
   "metadata": {},
   "outputs": [
    {
     "name": "stdout",
     "output_type": "stream",
     "text": [
      "Enter name to wish:tanuja\n"
     ]
    }
   ],
   "source": [
    "#for wishes\n",
    "name=input(\"Enter name to wish:\")\n",
    "if name==\"tanu\":\n",
    "    print(\"Hello\",name,\"Gud evng\")"
   ]
  },
  {
   "cell_type": "markdown",
   "metadata": {},
   "source": [
    "# if else"
   ]
  },
  {
   "cell_type": "code",
   "execution_count": null,
   "metadata": {},
   "outputs": [],
   "source": [
    "syntax:\n",
    "    if condition:\n",
    "        -----------\n",
    "        -----------\n",
    "    else:\n",
    "        -----------\n",
    "        -----------"
   ]
  },
  {
   "cell_type": "code",
   "execution_count": 8,
   "metadata": {},
   "outputs": [
    {
     "name": "stdout",
     "output_type": "stream",
     "text": [
      "Enter name to wish:smiley\n",
      "Hello smiley Welcome to my world\n"
     ]
    }
   ],
   "source": [
    "#example pgm\n",
    "name=input(\"Enter name to wish:\")\n",
    "if name==\"tanuja\":\n",
    "    print(\"Hello tanuja, how r u\")\n",
    "else:\n",
    "    print(\"Hello\",name,\"Welcome to my world\")"
   ]
  },
  {
   "cell_type": "code",
   "execution_count": 10,
   "metadata": {},
   "outputs": [
    {
     "name": "stdout",
     "output_type": "stream",
     "text": [
      "Enter the number:8\n",
      "Even no.\n"
     ]
    }
   ],
   "source": [
    "#write a pgm to check given no. is even or odd\n",
    "n=int(input(\"Enter the number:\")) #type casting\n",
    "if n%2==0:\n",
    "    print(\"Even no.\")\n",
    "else:\n",
    "    print(\"Odd no.\")"
   ]
  },
  {
   "cell_type": "code",
   "execution_count": 12,
   "metadata": {},
   "outputs": [
    {
     "name": "stdout",
     "output_type": "stream",
     "text": [
      "Enter the number:-13.98\n",
      "-ve no.\n"
     ]
    }
   ],
   "source": [
    "#check the given no. is +ve or not\n",
    "n=float(input(\"Enter the number:\"))\n",
    "if n>0:\n",
    "    print(\"+ve no.\")\n",
    "else:\n",
    "    print(\"-ve no.\")"
   ]
  },
  {
   "cell_type": "code",
   "execution_count": 13,
   "metadata": {},
   "outputs": [
    {
     "name": "stdout",
     "output_type": "stream",
     "text": [
      "b is big\n"
     ]
    }
   ],
   "source": [
    "#check the biggest no. of given 2 nos\n",
    "a=10\n",
    "b=20\n",
    "if a>b:\n",
    "    print(\"a is big\")\n",
    "else:\n",
    "    print(\"b is big\")"
   ]
  },
  {
   "cell_type": "code",
   "execution_count": 14,
   "metadata": {},
   "outputs": [
    {
     "name": "stdout",
     "output_type": "stream",
     "text": [
      "Enter a value28\n",
      "Enter a value12\n",
      "a is big\n"
     ]
    }
   ],
   "source": [
    "a=int(input(\"Enter a value\"))\n",
    "b=int(input(\"Enter a value\"))\n",
    "if a>b:\n",
    "    print(\"a is big\")\n",
    "else:\n",
    "    print(\"b is big\")"
   ]
  },
  {
   "cell_type": "markdown",
   "metadata": {},
   "source": [
    "# elif"
   ]
  },
  {
   "cell_type": "code",
   "execution_count": null,
   "metadata": {},
   "outputs": [],
   "source": [
    "syntax:\n",
    "    if condtion1:\n",
    "        ----------\n",
    "        ----------\n",
    "    elif condition2:\n",
    "        -----------\n",
    "        -----------\n",
    "        |\n",
    "        |\n",
    "        |\n",
    "    elif conditionx:\n",
    "        -----------\n",
    "        -----------"
   ]
  },
  {
   "cell_type": "code",
   "execution_count": 16,
   "metadata": {},
   "outputs": [
    {
     "name": "stdout",
     "output_type": "stream",
     "text": [
      "Enter a value10\n",
      "Enter b value30\n",
      "Enter c value600\n",
      "600  is big\n"
     ]
    }
   ],
   "source": [
    "#example pgm to find the biggest of given 3 no.s\n",
    "a=int(input(\"Enter a value\"))\n",
    "b=int(input(\"Enter b value\"))\n",
    "c=int(input(\"Enter c value\"))\n",
    "if a>b and a>c:\n",
    "    print(a,\" is big\")\n",
    "elif b>c:\n",
    "    print(b,\" is big\")\n",
    "else:\n",
    "    print(c,\" is big\")"
   ]
  },
  {
   "cell_type": "code",
   "execution_count": 18,
   "metadata": {},
   "outputs": [
    {
     "name": "stdout",
     "output_type": "stream",
     "text": [
      "Enter a value:12\n",
      "Please enter no.s from 0 to 9\n"
     ]
    }
   ],
   "source": [
    "#number to alphabet\n",
    "a=int(input(\"Enter a value:\"))\n",
    "if a==1:\n",
    "    print(\"One\")\n",
    "elif a==2:\n",
    "    print(\"Two\")\n",
    "elif a==3:\n",
    "    print(\"Three\")\n",
    "elif a==4:\n",
    "    print(\"Four\")\n",
    "elif a==5:\n",
    "    print(\"Five\")\n",
    "elif a==6:\n",
    "    print(\"Six\")\n",
    "elif a==7:\n",
    "    print(\"Seven\")\n",
    "elif a==8:\n",
    "    print(\"Eight\")\n",
    "elif a==9:\n",
    "    print(\"Nine\")\n",
    "elif a==0:\n",
    "    print(\"Zero\")\n",
    "else:\n",
    "    print(\"Please enter no.s from 0 to 9\")\n"
   ]
  },
  {
   "cell_type": "code",
   "execution_count": 20,
   "metadata": {},
   "outputs": [
    {
     "name": "stdout",
     "output_type": "stream",
     "text": [
      "Enter the alphabeto\n",
      "Alphabet is vowel\n"
     ]
    }
   ],
   "source": [
    "#write a pgm to check the given alphabet is vowel or consonant\n",
    "ch=input(\"Enter the alphabet\")\n",
    "if ch=='a' or ch=='e' or ch=='i' or ch=='o' or ch=='u':\n",
    "    print(\"Alphabet is vowel\")\n",
    "else:\n",
    "    print(\"Alphabet is consonant\")"
   ]
  },
  {
   "cell_type": "code",
   "execution_count": 24,
   "metadata": {},
   "outputs": [
    {
     "name": "stdout",
     "output_type": "stream",
     "text": [
      "Enter the alphabetT\n",
      "The given alphabet T is in uppercase\n"
     ]
    }
   ],
   "source": [
    "#write a pgm to check whether given alphabet is upper or lower case\n",
    "ch=input(\"Enter the alphabet\")\n",
    "if ch>='A' and ch<='Z':\n",
    "    print(\"The given alphabet\",ch,\"is in uppercase\")\n",
    "else:\n",
    "    print(\"The given alphabet\",ch,\"is in lowercase\")"
   ]
  },
  {
   "cell_type": "code",
   "execution_count": 25,
   "metadata": {},
   "outputs": [
    {
     "name": "stdout",
     "output_type": "stream",
     "text": [
      "Enter the alphabet@\n",
      "The given alphabet @ is in lowercase\n"
     ]
    }
   ],
   "source": [
    "#write a pgm to check whether given alphabet is upper or lower case\n",
    "ch=input(\"Enter the alphabet\")\n",
    "if ch>='A' and ch<='Z':\n",
    "    print(\"The given alphabet\",ch,\"is in uppercase\")\n",
    "else:\n",
    "    print(\"The given alphabet\",ch,\"is in lowercase\")"
   ]
  },
  {
   "cell_type": "code",
   "execution_count": 31,
   "metadata": {},
   "outputs": [
    {
     "name": "stdout",
     "output_type": "stream",
     "text": [
      "Enter the required input:5\n",
      "Given input 5 is a Number\n"
     ]
    }
   ],
   "source": [
    "#write a pgm to check given is number or alphabet\n",
    "xi=input(\"Enter the required input:\")\n",
    "if (xi>='a' and xi<='z') or (xi>='A' and xi<='Z'):\n",
    "    print(\"Given input\",xi,\"is a Alphabet\")\n",
    "elif (xi>='0' and xi<='9'):\n",
    "    print(\"Given input\",xi,\"is a Number\")\n",
    "else:\n",
    "    print(\"Given input\",xi,\"is neither Alphabet nor Number\")"
   ]
  },
  {
   "cell_type": "code",
   "execution_count": 33,
   "metadata": {},
   "outputs": [
    {
     "name": "stdout",
     "output_type": "stream",
     "text": [
      "***WELCOME TO UBI ATM***\n",
      "Please insert ATM card\n",
      "Enter pin no:8866\n",
      "Pin is correct\n"
     ]
    }
   ],
   "source": [
    "#pgm for ATM options and money withdraw\n",
    "print(\"***WELCOME TO UBI ATM***\")\n",
    "print(\"Please insert ATM card\")\n",
    "PIN=8866\n",
    "UPIN=int(input(\"Enter pin no:\"))\n",
    "if PIN==UPIN:\n",
    "    print(\"Pin is correct\")\n",
    "else:\n",
    "    print(\"Wrong pin\")"
   ]
  },
  {
   "cell_type": "code",
   "execution_count": 34,
   "metadata": {},
   "outputs": [
    {
     "ename": "SyntaxError",
     "evalue": "invalid syntax (<ipython-input-34-86e50db03ba8>, line 22)",
     "output_type": "error",
     "traceback": [
      "\u001b[1;36m  File \u001b[1;32m\"<ipython-input-34-86e50db03ba8>\"\u001b[1;36m, line \u001b[1;32m22\u001b[0m\n\u001b[1;33m    elif x==2:\u001b[0m\n\u001b[1;37m    ^\u001b[0m\n\u001b[1;31mSyntaxError\u001b[0m\u001b[1;31m:\u001b[0m invalid syntax\n"
     ]
    }
   ],
   "source": [
    "#pgm for ATM options and money withdraw\n",
    "print(\"***WELCOME TO UBI ATM***\")\n",
    "print(\"Please insert ATM card\")\n",
    "PIN=8866\n",
    "bal=5000\n",
    "UPIN=int(input(\"Enter pin no:\"))\n",
    "if PIN==UPIN:\n",
    "    print(\"WELCOME TO YOUR TRANSACTIONS\")\n",
    "    print(\"1.WITHDRAW\")\n",
    "    print(\"2.MINI STATEMENT\")\n",
    "    print(\"3.BALANCE ENQUIRY\")\n",
    "    print(\"4.PIN CHANGE\")\n",
    "x=int(input(\"Press the button which u want do process\"))\n",
    "if x==1:\n",
    "    uamount=int(input(\"Enter amount to withdraw\"))\n",
    "if uamount<=bal:\n",
    "    print(\"Your transaction is in process please collect your cash.....\")\n",
    "    bal=bal-uamount\n",
    "    print(\"Remaining balance is:\",bal)\n",
    "else:\n",
    "    print(\"Insufficient amount in your account......\")\n",
    "elif x==2:\n",
    "    print(\"Ministatement is:\",bal)\n",
    "elif x==3:\n",
    "    print(\"Balance is:\",bal)\n",
    "elif x==4:\n",
    "    oldpin=int(input(\"Please enter your old pin.....\"))\n",
    "    if oldpin==PIN:\n",
    "        newpin=int(input(\"Enter new pin:\"))\n",
    "        PIN=newpin\n",
    "        print(\"PIN changed successfully.......\")\n",
    "        print(\"Your new pin is\",PIN,\"please dont share with anyone....\")\n",
    "        else:\n",
    "            print(\"You entered wrong pin...please try again...\")\n",
    "else:\n",
    "    print(\"Wrong pin\")"
   ]
  },
  {
   "cell_type": "code",
   "execution_count": 3,
   "metadata": {},
   "outputs": [
    {
     "name": "stdout",
     "output_type": "stream",
     "text": [
      "Enter your username:tanujachav@gmail.com\n",
      "Enter correct username\n"
     ]
    }
   ],
   "source": [
    "#Write a pgm on gmail\n",
    "y=\"tanujachava@gmail.com\"\n",
    "a=\"tanuja\"\n",
    "x=input(\"Enter your username:\")\n",
    "if x==y:\n",
    "    z=input(\"Enter the password:\")\n",
    "    if z==a:\n",
    "        print(\"Login success\")\n",
    "    else:\n",
    "        print(\"Invalid\")\n",
    "else:\n",
    "    print(\"Enter correct username\")"
   ]
  },
  {
   "cell_type": "markdown",
   "metadata": {},
   "source": [
    "# Iterative Statements"
   ]
  },
  {
   "cell_type": "markdown",
   "metadata": {},
   "source": [
    "#### When we want to execute in many no. of times then we use iterative sts"
   ]
  },
  {
   "cell_type": "markdown",
   "metadata": {},
   "source": [
    "## for loop"
   ]
  },
  {
   "cell_type": "code",
   "execution_count": null,
   "metadata": {},
   "outputs": [],
   "source": [
    "Syntax:\n",
    "    for variable in sequence or rangeofvalues:\n",
    "        -----------------------------------\n",
    "        -----------------------------------\n",
    "        -----------------------------------\n",
    "        \n",
    "In python,for loop is auto-incremented or decremented."
   ]
  },
  {
   "cell_type": "code",
   "execution_count": 4,
   "metadata": {},
   "outputs": [
    {
     "name": "stdout",
     "output_type": "stream",
     "text": [
      "Tanuja\n",
      "Tanuja\n",
      "Tanuja\n",
      "Tanuja\n",
      "Tanuja\n",
      "Tanuja\n",
      "Tanuja\n",
      "Tanuja\n",
      "Tanuja\n",
      "Tanuja\n"
     ]
    }
   ],
   "source": [
    "#pgm to print ur name 10 times using for loop\n",
    "for i in range(10):\n",
    "    print(\"Tanuja\")"
   ]
  },
  {
   "cell_type": "code",
   "execution_count": 7,
   "metadata": {},
   "outputs": [
    {
     "name": "stdout",
     "output_type": "stream",
     "text": [
      "The starting no:2\n",
      "The ending no:13\n",
      "2\n",
      "4\n",
      "6\n",
      "8\n",
      "10\n",
      "12\n"
     ]
    }
   ],
   "source": [
    "#pgm to print even no.s b/w given range\n",
    "x=int(input(\"The starting no:\"))\n",
    "y=int(input(\"The ending no:\"))\n",
    "for i in range(x,y+1):\n",
    "    if(i%2==0):\n",
    "        print(i)"
   ]
  },
  {
   "cell_type": "code",
   "execution_count": 8,
   "metadata": {},
   "outputs": [
    {
     "name": "stdout",
     "output_type": "stream",
     "text": [
      "6\n",
      "8\n",
      "10\n",
      "12\n",
      "14\n",
      "16\n",
      "18\n",
      "20\n",
      "22\n",
      "24\n",
      "26\n",
      "28\n",
      "30\n",
      "32\n",
      "34\n",
      "36\n",
      "38\n",
      "40\n",
      "42\n",
      "44\n",
      "46\n",
      "48\n",
      "50\n",
      "52\n",
      "54\n",
      "56\n",
      "58\n",
      "60\n",
      "62\n",
      "64\n",
      "66\n",
      "68\n",
      "70\n",
      "72\n",
      "74\n",
      "76\n",
      "78\n",
      "80\n",
      "82\n",
      "84\n",
      "86\n",
      "88\n",
      "90\n",
      "92\n",
      "94\n",
      "96\n",
      "98\n",
      "100\n"
     ]
    }
   ],
   "source": [
    "for i in range(5,101):\n",
    "    if(i%2==0):\n",
    "        print(i)"
   ]
  },
  {
   "cell_type": "code",
   "execution_count": 9,
   "metadata": {},
   "outputs": [
    {
     "name": "stdout",
     "output_type": "stream",
     "text": [
      "B\n",
      "A\n",
      "L\n",
      "A\n",
      "Y\n",
      "Y\n",
      "A\n",
      " \n",
      "M\n",
      "A\n",
      "M\n",
      "A\n"
     ]
    }
   ],
   "source": [
    "#pgm to print the characters in given string\n",
    "s=\"BALAYYA MAMA\"\n",
    "for i in s:\n",
    "    print(i)"
   ]
  },
  {
   "cell_type": "code",
   "execution_count": 11,
   "metadata": {},
   "outputs": [
    {
     "name": "stdout",
     "output_type": "stream",
     "text": [
      "Enter the string:tanuja\n",
      "Number of vowels are:\n",
      "3\n"
     ]
    }
   ],
   "source": [
    "#pgm to print no. of vowels in a given string\n",
    "vowels=0\n",
    "s=input(\"Enter the string:\")\n",
    "for i in s:\n",
    "    if(i=='a' or i=='e' or i=='i' or i=='o' or i=='u'):\n",
    "        vowels=vowels+1\n",
    "print(\"Number of vowels are:\")\n",
    "print(vowels)"
   ]
  },
  {
   "cell_type": "code",
   "execution_count": 17,
   "metadata": {},
   "outputs": [
    {
     "name": "stdout",
     "output_type": "stream",
     "text": [
      "Enter the passwordTanu1\n",
      "Missing special characters\n"
     ]
    }
   ],
   "source": [
    "#pgm to check password requirements\n",
    "#1.uppercae letters\n",
    "#2.lowercase letters\n",
    "#3.numbers\n",
    "#4.special characters\n",
    "\n",
    "psw=input(\"Enter the password\")\n",
    "ucount=0\n",
    "lcount=0\n",
    "ncount=0\n",
    "scount=0\n",
    "for i in psw:\n",
    "    if i>='a' and i<='z':\n",
    "        lcount=lcount+1\n",
    "    elif i>='A' and i<='Z':\n",
    "        ucount=ucount+1\n",
    "    elif i>='0' and i<='9':\n",
    "        ncount=ncount+1\n",
    "    else:\n",
    "        scount=scount+1\n",
    "if ucount>0:\n",
    "    pass\n",
    "else:\n",
    "    print(\"Missing uppercase\")\n",
    "if lcount>0:\n",
    "    pass\n",
    "else:\n",
    "    print(\"Missing lowercase\")\n",
    "if ncount>0:\n",
    "    pass\n",
    "else:\n",
    "    print(\"Missing no.s\")\n",
    "if scount>0:\n",
    "    pass\n",
    "else:\n",
    "    print(\"Missing special characters\")"
   ]
  },
  {
   "cell_type": "markdown",
   "metadata": {},
   "source": [
    "## Nested for loop "
   ]
  },
  {
   "cell_type": "code",
   "execution_count": null,
   "metadata": {},
   "outputs": [],
   "source": [
    "Syntax:\n",
    "    \n",
    "    for i in seq1:\n",
    "        for j in seq2:\n",
    "            print(\"\")"
   ]
  },
  {
   "cell_type": "code",
   "execution_count": 18,
   "metadata": {},
   "outputs": [
    {
     "name": "stdout",
     "output_type": "stream",
     "text": [
      "****\n",
      "****\n",
      "****\n",
      "****\n"
     ]
    }
   ],
   "source": [
    "#example pgm for nested for loops\n",
    "for i in range(4):\n",
    "    for j in range(4):\n",
    "        print(\"*\",end=\"\")\n",
    "    print()"
   ]
  },
  {
   "cell_type": "code",
   "execution_count": 19,
   "metadata": {},
   "outputs": [
    {
     "name": "stdout",
     "output_type": "stream",
     "text": [
      "0123\n",
      "0123\n",
      "0123\n",
      "0123\n"
     ]
    }
   ],
   "source": [
    "#print nos\n",
    "for i in range(4): #for 1 row \"i\" increments only once\n",
    "    for j in range(4):\n",
    "        print(j,end=\"\") #bcoz \"j\" starts from 0\n",
    "    print()"
   ]
  },
  {
   "cell_type": "code",
   "execution_count": 21,
   "metadata": {},
   "outputs": [
    {
     "name": "stdout",
     "output_type": "stream",
     "text": [
      "0000\n",
      "1111\n",
      "2222\n",
      "3333\n"
     ]
    }
   ],
   "source": [
    "for i in range(4):\n",
    "    for j in range(4):\n",
    "        print(i,end=\"\")\n",
    "    print()"
   ]
  },
  {
   "cell_type": "code",
   "execution_count": 22,
   "metadata": {},
   "outputs": [
    {
     "name": "stdout",
     "output_type": "stream",
     "text": [
      "A B C D \n",
      "E F G H \n",
      "I J K L \n",
      "M N O P \n"
     ]
    }
   ],
   "source": [
    "ch=\"ABCDEFGHIJKLMNOP\"\n",
    "k=0\n",
    "for i in range(4): #determine coloumns\n",
    "    for j in range(4): #determine rows\n",
    "        print(ch[k],end=\" \")\n",
    "        k=k+1\n",
    "    print()"
   ]
  },
  {
   "cell_type": "code",
   "execution_count": 24,
   "metadata": {},
   "outputs": [
    {
     "name": "stdout",
     "output_type": "stream",
     "text": [
      "A\n",
      "\n",
      "B\n",
      "\n",
      "C\n",
      "\n",
      "D\n",
      "\n",
      "E\n",
      "\n",
      "F\n",
      "\n",
      "G\n",
      "\n",
      "H\n",
      "\n",
      "I\n",
      "\n",
      "J\n",
      "\n",
      "K\n",
      "\n",
      "L\n",
      "\n",
      "M\n",
      "\n",
      "N\n",
      "\n",
      "O\n",
      "\n",
      "P\n",
      "\n",
      "P\n",
      "\n",
      "A\n",
      "\n",
      "B\n",
      "\n",
      "C\n",
      "\n",
      "D\n",
      "\n",
      "E\n",
      "\n",
      "F\n",
      "\n",
      "G\n",
      "\n",
      "H\n",
      "\n",
      "I\n",
      "\n",
      "J\n",
      "\n",
      "K\n",
      "\n",
      "L\n",
      "\n",
      "M\n",
      "\n",
      "N\n",
      "\n",
      "O\n",
      "\n",
      "O\n",
      "\n",
      "P\n",
      "\n",
      "A\n",
      "\n",
      "B\n",
      "\n",
      "C\n",
      "\n",
      "D\n",
      "\n",
      "E\n",
      "\n",
      "F\n",
      "\n",
      "G\n",
      "\n",
      "H\n",
      "\n",
      "I\n",
      "\n",
      "J\n",
      "\n",
      "K\n",
      "\n",
      "L\n",
      "\n",
      "M\n",
      "\n",
      "N\n",
      "\n",
      "N\n",
      "\n",
      "O\n",
      "\n",
      "P\n",
      "\n",
      "A\n",
      "\n",
      "B\n",
      "\n",
      "C\n",
      "\n",
      "D\n",
      "\n",
      "E\n",
      "\n",
      "F\n",
      "\n",
      "G\n",
      "\n",
      "H\n",
      "\n",
      "I\n",
      "\n",
      "J\n",
      "\n",
      "K\n",
      "\n",
      "L\n",
      "\n",
      "M\n",
      "\n",
      "M\n",
      "\n",
      "N\n",
      "\n",
      "O\n",
      "\n",
      "P\n",
      "\n",
      "A\n",
      "\n",
      "B\n",
      "\n",
      "C\n",
      "\n",
      "D\n",
      "\n",
      "E\n",
      "\n",
      "F\n",
      "\n",
      "G\n",
      "\n",
      "H\n",
      "\n",
      "I\n",
      "\n",
      "J\n",
      "\n",
      "K\n",
      "\n",
      "L\n",
      "\n",
      "L\n",
      "\n",
      "M\n",
      "\n",
      "N\n",
      "\n",
      "O\n",
      "\n",
      "P\n",
      "\n",
      "A\n",
      "\n",
      "B\n",
      "\n",
      "C\n",
      "\n",
      "D\n",
      "\n",
      "E\n",
      "\n",
      "F\n",
      "\n",
      "G\n",
      "\n",
      "H\n",
      "\n",
      "I\n",
      "\n",
      "J\n",
      "\n",
      "K\n",
      "\n",
      "K\n",
      "\n",
      "L\n",
      "\n",
      "M\n",
      "\n",
      "N\n",
      "\n",
      "O\n",
      "\n",
      "P\n",
      "\n",
      "A\n",
      "\n",
      "B\n",
      "\n",
      "C\n",
      "\n",
      "D\n",
      "\n",
      "E\n",
      "\n",
      "F\n",
      "\n",
      "G\n",
      "\n",
      "H\n",
      "\n",
      "I\n",
      "\n",
      "J\n",
      "\n",
      "J\n",
      "\n",
      "K\n",
      "\n",
      "L\n",
      "\n",
      "M\n",
      "\n",
      "N\n",
      "\n",
      "O\n",
      "\n",
      "P\n",
      "\n",
      "A\n",
      "\n",
      "B\n",
      "\n",
      "C\n",
      "\n",
      "D\n",
      "\n",
      "E\n",
      "\n",
      "F\n",
      "\n",
      "G\n",
      "\n",
      "H\n",
      "\n",
      "I\n",
      "\n",
      "I\n",
      "\n",
      "J\n",
      "\n",
      "K\n",
      "\n",
      "L\n",
      "\n",
      "M\n",
      "\n",
      "N\n",
      "\n",
      "O\n",
      "\n",
      "P\n",
      "\n",
      "A\n",
      "\n",
      "B\n",
      "\n",
      "C\n",
      "\n",
      "D\n",
      "\n",
      "E\n",
      "\n",
      "F\n",
      "\n",
      "G\n",
      "\n",
      "H\n",
      "\n",
      "H\n",
      "\n",
      "I\n",
      "\n",
      "J\n",
      "\n",
      "K\n",
      "\n",
      "L\n",
      "\n",
      "M\n",
      "\n",
      "N\n",
      "\n",
      "O\n",
      "\n",
      "P\n",
      "\n",
      "A\n",
      "\n",
      "B\n",
      "\n",
      "C\n",
      "\n",
      "D\n",
      "\n",
      "E\n",
      "\n",
      "F\n",
      "\n",
      "G\n",
      "\n",
      "G\n",
      "\n",
      "H\n",
      "\n",
      "I\n",
      "\n",
      "J\n",
      "\n",
      "K\n",
      "\n",
      "L\n",
      "\n",
      "M\n",
      "\n",
      "N\n",
      "\n",
      "O\n",
      "\n",
      "P\n",
      "\n",
      "A\n",
      "\n",
      "B\n",
      "\n",
      "C\n",
      "\n",
      "D\n",
      "\n",
      "E\n",
      "\n",
      "F\n",
      "\n",
      "F\n",
      "\n",
      "G\n",
      "\n",
      "H\n",
      "\n",
      "I\n",
      "\n",
      "J\n",
      "\n",
      "K\n",
      "\n",
      "L\n",
      "\n",
      "M\n",
      "\n",
      "N\n",
      "\n",
      "O\n",
      "\n",
      "P\n",
      "\n",
      "A\n",
      "\n",
      "B\n",
      "\n",
      "C\n",
      "\n",
      "D\n",
      "\n",
      "E\n",
      "\n",
      "E\n",
      "\n",
      "F\n",
      "\n",
      "G\n",
      "\n",
      "H\n",
      "\n",
      "I\n",
      "\n",
      "J\n",
      "\n",
      "K\n",
      "\n",
      "L\n",
      "\n",
      "M\n",
      "\n",
      "N\n",
      "\n",
      "O\n",
      "\n",
      "P\n",
      "\n",
      "A\n",
      "\n",
      "B\n",
      "\n",
      "C\n",
      "\n",
      "D\n",
      "\n",
      "D\n",
      "\n",
      "E\n",
      "\n",
      "F\n",
      "\n",
      "G\n",
      "\n",
      "H\n",
      "\n",
      "I\n",
      "\n",
      "J\n",
      "\n",
      "K\n",
      "\n",
      "L\n",
      "\n",
      "M\n",
      "\n",
      "N\n",
      "\n",
      "O\n",
      "\n",
      "P\n",
      "\n",
      "A\n",
      "\n",
      "B\n",
      "\n",
      "C\n",
      "\n",
      "C\n",
      "\n",
      "D\n",
      "\n",
      "E\n",
      "\n",
      "F\n",
      "\n",
      "G\n",
      "\n",
      "H\n",
      "\n",
      "I\n",
      "\n",
      "J\n",
      "\n",
      "K\n",
      "\n",
      "L\n",
      "\n",
      "M\n",
      "\n",
      "N\n",
      "\n",
      "O\n",
      "\n",
      "P\n",
      "\n",
      "A\n",
      "\n",
      "B\n",
      "\n",
      "B\n",
      "\n",
      "C\n",
      "\n",
      "D\n",
      "\n",
      "E\n",
      "\n",
      "F\n",
      "\n",
      "G\n",
      "\n",
      "H\n",
      "\n",
      "I\n",
      "\n",
      "J\n",
      "\n",
      "K\n",
      "\n",
      "L\n",
      "\n",
      "M\n",
      "\n",
      "N\n",
      "\n",
      "O\n",
      "\n",
      "P\n",
      "\n",
      "A\n",
      "\n"
     ]
    }
   ],
   "source": [
    "n=['A','B','C','D','E','F','G','H','I','J','K','L','M','N','O','P']\n",
    "for i in range(len(n)):\n",
    "    for j in range(len(n)):\n",
    "        print(n[j-i],end=\"\")\n",
    "        print('\\n')"
   ]
  },
  {
   "cell_type": "markdown",
   "metadata": {},
   "source": [
    "## while loop "
   ]
  },
  {
   "cell_type": "code",
   "execution_count": null,
   "metadata": {},
   "outputs": [],
   "source": [
    "while and for are same but while loop will execute vertical and for in horizontal\n",
    "\n",
    "Syntax:\n",
    "    \n",
    "    initialization\n",
    "    while cond:\n",
    "        ----------\n",
    "        ----------\n",
    "        ----------\n",
    "        increment/decrement"
   ]
  },
  {
   "cell_type": "code",
   "execution_count": 25,
   "metadata": {},
   "outputs": [
    {
     "name": "stdout",
     "output_type": "stream",
     "text": [
      "1\n",
      "2\n",
      "3\n",
      "4\n",
      "5\n",
      "6\n",
      "7\n",
      "8\n",
      "9\n",
      "10\n",
      "11\n",
      "12\n",
      "13\n",
      "14\n",
      "15\n",
      "16\n",
      "17\n",
      "18\n",
      "19\n",
      "20\n"
     ]
    }
   ],
   "source": [
    "#pgm to print 1 to 20\n",
    "i=1\n",
    "while i<=20:\n",
    "    print(i)\n",
    "    i=i+1\n"
   ]
  },
  {
   "cell_type": "code",
   "execution_count": 26,
   "metadata": {},
   "outputs": [
    {
     "name": "stdout",
     "output_type": "stream",
     "text": [
      "Enter the amount to draw:140\n",
      "Please enter amount in 100's combinations only.....\n"
     ]
    }
   ],
   "source": [
    "amount=int(input(\"Enter the amount to draw:\"))\n",
    "if amount%100==0:\n",
    "    print(\"Ur transaction is successful\")\n",
    "else:\n",
    "    print(\"Please enter amount in 100's combinations only.....\")"
   ]
  },
  {
   "cell_type": "code",
   "execution_count": null,
   "metadata": {},
   "outputs": [],
   "source": [
    "INFINITE LOOPS IN while:\n",
    "    while True:\n",
    "        pass"
   ]
  },
  {
   "cell_type": "code",
   "execution_count": null,
   "metadata": {},
   "outputs": [],
   "source": [
    "while False:\n",
    "    pass"
   ]
  },
  {
   "cell_type": "code",
   "execution_count": 28,
   "metadata": {},
   "outputs": [
    {
     "name": "stdout",
     "output_type": "stream",
     "text": [
      "1\n",
      "2\n",
      "3\n",
      "4\n",
      "5\n"
     ]
    }
   ],
   "source": [
    "#break\n",
    "l=[1,2,3,4,5,6,7,8,9,10]\n",
    "for i in l:\n",
    "    if i==6:\n",
    "        break\n",
    "    print(i)"
   ]
  },
  {
   "cell_type": "code",
   "execution_count": 29,
   "metadata": {},
   "outputs": [
    {
     "name": "stdout",
     "output_type": "stream",
     "text": [
      "Enter a number:255\n",
      "255 is divisible by 3\n",
      "255 is not a prime no.\n"
     ]
    }
   ],
   "source": [
    "#Given no. is prime or not\n",
    "num=int(input(\"Enter a number:\"))\n",
    "isDivisible=False;\n",
    "i=2;\n",
    "while i<num:\n",
    "    if num%i==0:\n",
    "        isDivisible=True;\n",
    "        print(\"{} is divisible by {}\".format(num,i))\n",
    "        break; #this line is only addition\n",
    "    i=i+1;\n",
    "if isDivisible:\n",
    "    print(\"{} is not a prime no.\".format(num))\n",
    "else:\n",
    "    print(\"{} is a prime no.\".format(num))"
   ]
  },
  {
   "cell_type": "code",
   "execution_count": 30,
   "metadata": {},
   "outputs": [
    {
     "name": "stdout",
     "output_type": "stream",
     "text": [
      "Enter the 1st number:435.76\n",
      "Enter the operation%\n",
      "Enter the 2nd number:132\n",
      "The value of 435.76 % 132.0 =\n",
      "39.75999999999999\n"
     ]
    }
   ],
   "source": [
    "#calculator pgm\n",
    "num1=float(input(\"Enter the 1st number:\"))\n",
    "op=input(\"Enter the operation\")\n",
    "num2=float(input(\"Enter the 2nd number:\"))\n",
    "print(\"The value of\",num1,op,num2,\"=\")\n",
    "if op==\"+\":\n",
    "    print(num1+num2)\n",
    "elif op==\"-\":\n",
    "    print(num1-num2)\n",
    "elif op==\"%\":\n",
    "    print(num1%num2)\n",
    "elif op==\"/\":\n",
    "    print(num1/num2)\n",
    "else:\n",
    "    print(\"Invalid operation\")"
   ]
  },
  {
   "cell_type": "markdown",
   "metadata": {},
   "source": [
    "## formatted output"
   ]
  },
  {
   "cell_type": "code",
   "execution_count": 31,
   "metadata": {},
   "outputs": [
    {
     "name": "stdout",
     "output_type": "stream",
     "text": [
      "Value of a is 10 and b is 20\n",
      "A value is:20 B is:10\n"
     ]
    }
   ],
   "source": [
    "a=10; b=20 #multiple statements in single line\n",
    "print(\"Value of a is {} and b is {}\".format(a,b))\n",
    "print(\"A value is:{} B is:{}\".format(b,a))"
   ]
  },
  {
   "cell_type": "code",
   "execution_count": 32,
   "metadata": {},
   "outputs": [
    {
     "name": "stdout",
     "output_type": "stream",
     "text": [
      "Value of a is 10 and b is 20\n",
      "A value is:20 B is:10\n",
      "A=Hello B=(20.54+5j)\n"
     ]
    }
   ],
   "source": [
    "a=10; b=20 #multiple statements in single line\n",
    "print(\"Value of a is {} and b is {}\".format(a,b))\n",
    "print(\"A value is:{} B is:{}\".format(b,a))\n",
    "print(\"A={} B={}\".format(\"Hello\",20.54+5j))"
   ]
  },
  {
   "cell_type": "code",
   "execution_count": 33,
   "metadata": {},
   "outputs": [
    {
     "name": "stdout",
     "output_type": "stream",
     "text": [
      "hello tanuja,gudmrng\n"
     ]
    }
   ],
   "source": [
    "#we can use keyword arguments to format strings\n",
    "print(\"hello {name},{greeting}\".format(name=\"tanuja\",greeting=\"gudmrng\"))"
   ]
  },
  {
   "cell_type": "code",
   "execution_count": 34,
   "metadata": {},
   "outputs": [
    {
     "name": "stdout",
     "output_type": "stream",
     "text": [
      "story of Tanuja,Manfred, and smith\n"
     ]
    }
   ],
   "source": [
    "#we can combine positional arguments with keyword arguments\n",
    "print('story of {0},{1}, and {other}'.format('Tanuja','Manfred',other='smith'))"
   ]
  },
  {
   "cell_type": "code",
   "execution_count": null,
   "metadata": {},
   "outputs": [],
   "source": [
    "#formatted input\n",
    "num=input(\"Enter a number:\")\n",
    "print(num)\n",
    "a,b=[int(x) for i in input(\"Enter 2 values\").split(',')]"
   ]
  },
  {
   "cell_type": "code",
   "execution_count": 1,
   "metadata": {},
   "outputs": [
    {
     "name": "stdout",
     "output_type": "stream",
     "text": [
      "My name is: tanujach\n",
      "My salary is: 100000\n",
      "My age is: 21\n"
     ]
    }
   ],
   "source": [
    "class employee:\n",
    "    def __init__(tanuja,name,salary,age): #instance(temporary) method\n",
    "        tanuja.name=name\n",
    "        tanuja.salary=salary\n",
    "        tanuja.age=age\n",
    "    def talk(tanuja): #talk is a function name\n",
    "        print(\"My name is:\",tanuja.name)\n",
    "        print(\"My salary is:\",tanuja.salary)\n",
    "        print(\"My age is:\",tanuja.age)\n",
    "e1=employee(\"tanujach\",100000,21)\n",
    "e1.talk()"
   ]
  },
  {
   "cell_type": "markdown",
   "metadata": {},
   "source": [
    "# self variable:"
   ]
  },
  {
   "cell_type": "code",
   "execution_count": null,
   "metadata": {},
   "outputs": [],
   "source": [
    "self is the default varaiable which always pointing to current object(like this in java)\n",
    "\n",
    "1. self should be first parameter inside constructor\n",
    "   def __init__(self):\n",
    "2. self should be first parameter inside instance methods\n",
    "   def talk(self):"
   ]
  },
  {
   "cell_type": "markdown",
   "metadata": {},
   "source": [
    "# Constructor"
   ]
  },
  {
   "cell_type": "code",
   "execution_count": 2,
   "metadata": {},
   "outputs": [],
   "source": [
    "#example\n",
    "def __init__(self,name,rollno,marks):\n",
    "    self.name=name\n",
    "    self.rollno=rollno\n",
    "    self.marks=marks"
   ]
  },
  {
   "cell_type": "code",
   "execution_count": 3,
   "metadata": {},
   "outputs": [
    {
     "name": "stdout",
     "output_type": "stream",
     "text": [
      "Constructor execution.....\n",
      "Constructor execution.....\n",
      "Constructor execution.....\n",
      "Method execution.....\n",
      "Method execution.....\n"
     ]
    }
   ],
   "source": [
    "#pgm to demonstrate constructor will execute only once per object\n",
    "class Test:\n",
    "    def __init__(self):\n",
    "        print(\"Constructor execution.....\")\n",
    "    def m1(self):\n",
    "        print(\"Method execution.....\")\n",
    "t1=Test()\n",
    "t2=Test()\n",
    "t3=Test()\n",
    "t1.m1()\n",
    "t2.m1()"
   ]
  },
  {
   "cell_type": "code",
   "execution_count": null,
   "metadata": {},
   "outputs": [],
   "source": []
  },
  {
   "cell_type": "markdown",
   "metadata": {},
   "source": [
    "## Try: with multiple Exceptions"
   ]
  },
  {
   "cell_type": "code",
   "execution_count": null,
   "metadata": {},
   "outputs": [],
   "source": []
  }
 ],
 "metadata": {
  "kernelspec": {
   "display_name": "Python 3",
   "language": "python",
   "name": "python3"
  },
  "language_info": {
   "codemirror_mode": {
    "name": "ipython",
    "version": 3
   },
   "file_extension": ".py",
   "mimetype": "text/x-python",
   "name": "python",
   "nbconvert_exporter": "python",
   "pygments_lexer": "ipython3",
   "version": "3.8.3"
  }
 },
 "nbformat": 4,
 "nbformat_minor": 2
}
